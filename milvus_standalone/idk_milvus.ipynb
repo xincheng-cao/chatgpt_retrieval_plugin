{
 "cells": [
  {
   "cell_type": "code",
   "execution_count": 1,
   "outputs": [
    {
     "data": {
      "text/plain": "'/Users/derbysofti88/OneDrive - 德比软件（上海）有限公司/chatgpt_retrieval_plugin/milvus_standalone'"
     },
     "execution_count": 1,
     "metadata": {},
     "output_type": "execute_result"
    }
   ],
   "source": [
    "import os\n",
    "os.remove('./hello_milvus.py')\n",
    "os.getcwd()"
   ],
   "metadata": {
    "collapsed": false,
    "pycharm": {
     "name": "#%%\n"
    }
   }
  },
  {
   "cell_type": "code",
   "execution_count": 2,
   "metadata": {
    "collapsed": true
   },
   "outputs": [
    {
     "name": "stdout",
     "output_type": "stream",
     "text": [
      "--2023-04-06 12:50:36--  https://raw.githubusercontent.com/milvus-io/pymilvus/v2.2.4/examples/hello_milvus.py\r\n",
      "Resolving raw.githubusercontent.com (raw.githubusercontent.com)... 185.199.108.133, 185.199.109.133, 185.199.110.133, ...\r\n",
      "Connecting to raw.githubusercontent.com (raw.githubusercontent.com)|185.199.108.133|:443... connected.\r\n",
      "HTTP request sent, awaiting response... 200 OK\r\n",
      "Length: 7380 (7.2K) [text/plain]\r\n",
      "Saving to: ‘hello_milvus.py’\r\n",
      "\r\n",
      "hello_milvus.py     100%[===================>]   7.21K  --.-KB/s    in 0s      \r\n",
      "\r\n",
      "2023-04-06 12:50:37 (20.9 MB/s) - ‘hello_milvus.py’ saved [7380/7380]\r\n",
      "\r\n"
     ]
    }
   ],
   "source": [
    "# refer https://milvus.io/docs/example_code.md\n",
    "!wget https://raw.githubusercontent.com/milvus-io/pymilvus/v2.2.4/examples/hello_milvus.py"
   ]
  },
  {
   "cell_type": "markdown",
   "source": [
    "# hello_milvus.py demonstrates the basic operations of PyMilvus, a Python SDK of Milvus.\n",
    "# 1. connect to Milvus\n",
    "# 2. create collection\n",
    "# 3. insert data\n",
    "# 4. create index\n",
    "# 5. search, query, and hybrid search on entities\n",
    "# 6. delete entities by PK\n",
    "# 7. drop collection"
   ],
   "metadata": {
    "collapsed": false
   }
  },
  {
   "cell_type": "code",
   "execution_count": 3,
   "outputs": [],
   "source": [
    "import time\n",
    "\n",
    "import numpy as np\n",
    "from pymilvus import (\n",
    "    connections,\n",
    "    utility,\n",
    "    FieldSchema, CollectionSchema, DataType,\n",
    "    Collection,\n",
    ")\n",
    "\n",
    "fmt = \"\\n=== {:30} ===\\n\"\n",
    "search_latency_fmt = \"search latency = {:.4f}s\"\n",
    "num_entities, dim = 3000, 8"
   ],
   "metadata": {
    "collapsed": false,
    "pycharm": {
     "name": "#%%\n"
    }
   }
  },
  {
   "cell_type": "code",
   "execution_count": 4,
   "outputs": [
    {
     "name": "stdout",
     "output_type": "stream",
     "text": [
      "\n",
      "=== start connecting to Milvus     ===\n",
      "\n",
      "Does collection hello_milvus exist in Milvus: False\n"
     ]
    }
   ],
   "source": [
    "#################################################################################\n",
    "# 1. connect to Milvus\n",
    "# Add a new connection alias `default` for Milvus server in `localhost:19530`\n",
    "# Actually the \"default\" alias is a buildin in PyMilvus.\n",
    "# If the address of Milvus is the same as `localhost:19530`, you can omit all\n",
    "# parameters and call the method as: `connections.connect()`.\n",
    "#\n",
    "# Note: the `using` parameter of the following methods is default to \"default\".\n",
    "print(fmt.format(\"start connecting to Milvus\"))\n",
    "connections.connect(\"default\", host=\"10.200.0.43\", port=\"19530\")\n",
    "\n",
    "has = utility.has_collection(\"hello_milvus\")\n",
    "print(f\"Does collection hello_milvus exist in Milvus: {has}\")"
   ],
   "metadata": {
    "collapsed": false,
    "pycharm": {
     "name": "#%%\n"
    }
   }
  },
  {
   "cell_type": "code",
   "execution_count": 5,
   "outputs": [
    {
     "name": "stdout",
     "output_type": "stream",
     "text": [
      "\n",
      "=== Create collection `hello_milvus` ===\n",
      "\n"
     ]
    }
   ],
   "source": [
    "#################################################################################\n",
    "# 2. create collection\n",
    "# We're going to create a collection with 3 fields.\n",
    "# +-+------------+------------+------------------+------------------------------+\n",
    "# | | field name | field type | other attributes |       field description      |\n",
    "# +-+------------+------------+------------------+------------------------------+\n",
    "# |1|    \"pk\"    |   VarChar  |  is_primary=True |      \"primary field\"         |\n",
    "# | |            |            |   auto_id=False  |                              |\n",
    "# +-+------------+------------+------------------+------------------------------+\n",
    "# |2|  \"random\"  |    Double  |                  |      \"a double field\"        |\n",
    "# +-+------------+------------+------------------+------------------------------+\n",
    "# |3|\"embeddings\"| FloatVector|     dim=8        |  \"float vector with dim 8\"   |\n",
    "# +-+------------+------------+------------------+------------------------------+\n",
    "fields = [\n",
    "    FieldSchema(name=\"pk\", dtype=DataType.VARCHAR, is_primary=True, auto_id=False, max_length=100),\n",
    "    FieldSchema(name=\"random\", dtype=DataType.DOUBLE),\n",
    "    FieldSchema(name=\"embeddings\", dtype=DataType.FLOAT_VECTOR, dim=dim)\n",
    "]\n",
    "\n",
    "schema = CollectionSchema(fields, \"hello_milvus is the simplest demo to introduce the APIs\")\n",
    "\n",
    "print(fmt.format(\"Create collection `hello_milvus`\"))\n",
    "hello_milvus = Collection(\"hello_milvus\", schema, consistency_level=\"Strong\")"
   ],
   "metadata": {
    "collapsed": false,
    "pycharm": {
     "name": "#%%\n"
    }
   }
  },
  {
   "cell_type": "code",
   "execution_count": 6,
   "outputs": [
    {
     "name": "stdout",
     "output_type": "stream",
     "text": [
      "\n",
      "=== Start inserting entities       ===\n",
      "\n",
      "Number of entities in Milvus: 0\n",
      "Number of entities in Milvus: 3000\n"
     ]
    }
   ],
   "source": [
    "################################################################################\n",
    "# 3. insert data\n",
    "# We are going to insert 3000 rows of data into `hello_milvus`\n",
    "# Data to be inserted must be organized in fields.\n",
    "#\n",
    "# The insert() method returns:\n",
    "# - either automatically generated primary keys by Milvus if auto_id=True in the schema;\n",
    "# - or the existing primary key field from the entities if auto_id=False in the schema.\n",
    "\n",
    "print(fmt.format(\"Start inserting entities\"))\n",
    "rng = np.random.default_rng(seed=19530)\n",
    "entities = [\n",
    "    # provide the pk field because `auto_id` is set to False\n",
    "    [str(i) for i in range(num_entities)],\n",
    "    rng.random(num_entities).tolist(),  # field random, only supports list\n",
    "    rng.random((num_entities, dim)),    # field embeddings, supports numpy.ndarray and list\n",
    "]\n",
    "\n",
    "insert_result = hello_milvus.insert(entities)\n",
    "\n",
    "print(f\"Number of entities in Milvus: {hello_milvus.num_entities}\")  # check the num_entites\n",
    "hello_milvus.flush()\n",
    "print(f\"Number of entities in Milvus: {hello_milvus.num_entities}\")  # check the num_entites"
   ],
   "metadata": {
    "collapsed": false,
    "pycharm": {
     "name": "#%%\n"
    }
   }
  },
  {
   "cell_type": "code",
   "execution_count": 7,
   "outputs": [
    {
     "data": {
      "text/plain": "<Collection>:\n-------------\n<name>: hello_milvus\n<partitions>: [{\"name\": \"_default\", \"collection_name\": \"hello_milvus\", \"description\": \"\"}]\n<description>: hello_milvus is the simplest demo to introduce the APIs\n<schema>: {\n  auto_id: False\n  description: hello_milvus is the simplest demo to introduce the APIs\n  fields: [{\n    name: pk\n    description: \n    type: 21\n    params: {'max_length': 100}\n    is_primary: True\n    auto_id: False\n  }, {\n    name: random\n    description: \n    type: 11\n  }, {\n    name: embeddings\n    description: \n    type: 101\n    params: {'dim': 8}\n  }]\n}"
     },
     "execution_count": 7,
     "metadata": {},
     "output_type": "execute_result"
    }
   ],
   "source": [
    "hello_milvus"
   ],
   "metadata": {
    "collapsed": false,
    "pycharm": {
     "name": "#%%\n"
    }
   }
  },
  {
   "cell_type": "code",
   "execution_count": 8,
   "outputs": [
    {
     "data": {
      "text/plain": "(['0', '1', '2', '3', '4'],\n [0.6378742006852851,\n  0.43925103574669633,\n  0.1321158395732429,\n  0.468666676812172,\n  0.744296470467782],\n [[0.20963514452725185,\n   0.397466580541035,\n   0.12019053120587031,\n   0.6947491504127892,\n   0.9535574841496438,\n   0.5454552024547541,\n   0.823604477841353,\n   0.2109630840483121],\n  [0.5232361500562313,\n   0.8035404362846539,\n   0.7782466231866557,\n   0.8036957419750694,\n   0.4914802763227951,\n   0.8265614091830081,\n   0.6145269082588252,\n   0.8023454579318446],\n  [0.1083407654818962,\n   0.7225640094032827,\n   0.6481155817809635,\n   0.04529253647704867,\n   0.3306724099072048,\n   0.00914072646802988,\n   0.4559419450672991,\n   0.4074524517614092],\n  [0.6025988148174869,\n   0.8369877822102969,\n   0.14832204233846147,\n   0.7041321547709049,\n   0.42856021028726843,\n   0.7978481501398528,\n   0.9857221101925083,\n   0.40442546447158045],\n  [0.8030917388404358,\n   0.7484994615404847,\n   0.7331518929867509,\n   0.7597000461295075,\n   0.11321863640249508,\n   0.02841180425806522,\n   0.49619691899657437,\n   0.19117174639686574]])"
     },
     "execution_count": 8,
     "metadata": {},
     "output_type": "execute_result"
    }
   ],
   "source": [
    "entities[0][:5],entities[1][:5],entities[2][:5]"
   ],
   "metadata": {
    "collapsed": false,
    "pycharm": {
     "name": "#%%\n"
    }
   }
  },
  {
   "cell_type": "code",
   "execution_count": 9,
   "outputs": [
    {
     "data": {
      "text/plain": "(insert count: 3000, delete count: 0, upsert count: 0, timestamp: 440600268220923907, success count: 3000, err count: 0)"
     },
     "execution_count": 9,
     "metadata": {},
     "output_type": "execute_result"
    }
   ],
   "source": [
    "insert_result"
   ],
   "metadata": {
    "collapsed": false,
    "pycharm": {
     "name": "#%%\n"
    }
   }
  },
  {
   "cell_type": "code",
   "execution_count": 10,
   "outputs": [
    {
     "name": "stdout",
     "output_type": "stream",
     "text": [
      "\n",
      "=== Start Creating index IVF_FLAT  ===\n",
      "\n"
     ]
    },
    {
     "data": {
      "text/plain": "<Collection>:\n-------------\n<name>: hello_milvus\n<partitions>: [{\"name\": \"_default\", \"collection_name\": \"hello_milvus\", \"description\": \"\"}]\n<description>: hello_milvus is the simplest demo to introduce the APIs\n<schema>: {\n  auto_id: False\n  description: hello_milvus is the simplest demo to introduce the APIs\n  fields: [{\n    name: pk\n    description: \n    type: 21\n    params: {'max_length': 100}\n    is_primary: True\n    auto_id: False\n  }, {\n    name: random\n    description: \n    type: 11\n  }, {\n    name: embeddings\n    description: \n    type: 101\n    params: {'dim': 8}\n  }]\n}"
     },
     "execution_count": 10,
     "metadata": {},
     "output_type": "execute_result"
    }
   ],
   "source": [
    "################################################################################\n",
    "# 4. create index\n",
    "# We are going to create an IVF_FLAT index for hello_milvus collection.\n",
    "# create_index() can only be applied to `FloatVector` and `BinaryVector` fields.\n",
    "\n",
    "# todo: need to refer to https://milvus.io/docs/build_index.md\n",
    "print(fmt.format(\"Start Creating index IVF_FLAT\"))\n",
    "index = {\n",
    "    \"index_type\": \"IVF_FLAT\",\n",
    "    \"metric_type\": \"L2\",\n",
    "    \"params\": {\"nlist\": 128},\n",
    "}\n",
    "\n",
    "hello_milvus.create_index(\"embeddings\", index)\n",
    "hello_milvus"
   ],
   "metadata": {
    "collapsed": false,
    "pycharm": {
     "name": "#%%\n"
    }
   }
  },
  {
   "cell_type": "code",
   "execution_count": 11,
   "outputs": [
    {
     "name": "stdout",
     "output_type": "stream",
     "text": [
      "\n",
      "=== Start loading                  ===\n",
      "\n"
     ]
    }
   ],
   "source": [
    "################################################################################\n",
    "# 5. search, query, and hybrid search\n",
    "# After data were inserted into Milvus and indexed, you can perform:\n",
    "# - search based on vector similarity\n",
    "# - query based on scalar filtering(boolean, int, etc.)\n",
    "# - hybrid search based on vector similarity and scalar filtering.\n",
    "#\n",
    "\n",
    "# Before conducting a search or a query, you need to load the data in `hello_milvus` into memory.\n",
    "print(fmt.format(\"Start loading\"))\n",
    "hello_milvus.load()"
   ],
   "metadata": {
    "collapsed": false,
    "pycharm": {
     "name": "#%%\n"
    }
   }
  },
  {
   "cell_type": "code",
   "execution_count": 12,
   "outputs": [
    {
     "name": "stdout",
     "output_type": "stream",
     "text": [
      "\n",
      "=== Start searching based on vector similarity ===\n",
      "\n",
      "hit: (distance: 0.0, id: 2998), random field: 0.9728033590489911\n",
      "hit: (distance: 0.08883658051490784, id: 1262), random field: 0.2978858685751561\n",
      "hit: (distance: 0.09590047597885132, id: 1265), random field: 0.3042039939240304\n",
      "hit: (distance: 0.0, id: 2999), random field: 0.02316334456872482\n",
      "hit: (distance: 0.05628091096878052, id: 1580), random field: 0.3855988746044062\n",
      "hit: (distance: 0.08096685260534286, id: 2377), random field: 0.8745922204004368\n",
      "search latency = 0.2387s\n",
      "[\"['(distance: 0.0, id: 2998)', '(distance: 0.08883658051490784, id: 1262)', '(distance: 0.09590047597885132, id: 1265)']\", \"['(distance: 0.0, id: 2999)', '(distance: 0.05628091096878052, id: 1580)', '(distance: 0.08096685260534286, id: 2377)']\"]\n",
      "id: 2377, distance: 0.08096685260534286, entity: {'random': 0.8745922204004368}\n"
     ]
    }
   ],
   "source": [
    "# -----------------------------------------------------------------------------\n",
    "# search based on vector similarity\n",
    "print(fmt.format(\"Start searching based on vector similarity\"))\n",
    "vectors_to_search = entities[-1][-2:]#two vectors here\n",
    "search_params = {\n",
    "    \"metric_type\": \"L2\",\n",
    "    \"params\": {\"nprobe\": 10},\n",
    "}\n",
    "\n",
    "start_time = time.time()\n",
    "result = hello_milvus.search(vectors_to_search, \"embeddings\", search_params, limit=3, output_fields=[\"random\"])\n",
    "end_time = time.time()\n",
    "\n",
    "for hits in result:#result lens 2*3\n",
    "    for hit in hits:\n",
    "        print(f\"hit: {hit}, random field: {hit.entity.get('random')}\")\n",
    "print(search_latency_fmt.format(end_time - start_time))\n",
    "print(result)\n",
    "print(hit.entity)"
   ],
   "metadata": {
    "collapsed": false,
    "pycharm": {
     "name": "#%%\n"
    }
   }
  },
  {
   "cell_type": "code",
   "execution_count": 13,
   "outputs": [
    {
     "name": "stdout",
     "output_type": "stream",
     "text": [
      "\n",
      "=== Start querying with `random > 0.5` ===\n",
      "\n",
      "query result:\n",
      "-{'embeddings': [0.20963514, 0.39746657, 0.12019053, 0.6947492, 0.9535575, 0.5454552, 0.82360446, 0.21096309], 'pk': '0'}\n",
      "1531 3000\n",
      "search latency = 0.4394s\n"
     ]
    }
   ],
   "source": [
    "# -----------------------------------------------------------------------------\n",
    "# query based on scalar filtering(boolean, int, etc.)\n",
    "print(fmt.format(\"Start querying with `random > 0.5`\"))\n",
    "\n",
    "start_time = time.time()\n",
    "result = hello_milvus.query(expr=\"random > 0.5\", output_fields=[\"embeddings\", ])\n",
    "end_time = time.time()\n",
    "\n",
    "print(f\"query result:\\n-{result[0]}\")\n",
    "print(len(result),len(entities[0]))\n",
    "print(search_latency_fmt.format(end_time - start_time))"
   ],
   "metadata": {
    "collapsed": false,
    "pycharm": {
     "name": "#%%\n"
    }
   }
  },
  {
   "cell_type": "code",
   "execution_count": 14,
   "outputs": [
    {
     "name": "stdout",
     "output_type": "stream",
     "text": [
      "query pagination(limit=4):\n",
      "\t[{'random': 0.6378742006852851, 'pk': '0'}, {'random': 0.5763523024650556, 'pk': '100'}, {'random': 0.9425935891639464, 'pk': '1000'}, {'random': 0.7893211256191387, 'pk': '1001'}]\n",
      "query pagination(offset=1, limit=3):\n",
      "\t[{'random': 0.5763523024650556, 'embeddings': [0.5860017, 0.24227226, 0.8318699, 0.0060517574, 0.27727962, 0.5513293, 0.47201252, 0.6331349], 'pk': '100'}, {'random': 0.9425935891639464, 'embeddings': [0.06456853, 0.121232815, 0.0850102, 0.2686066, 0.3113729, 0.21573599, 0.94793427, 0.8368486], 'pk': '1000'}, {'random': 0.7893211256191387, 'embeddings': [0.5073896, 0.2198741, 0.76709545, 0.27336067, 0.88386256, 0.6357631, 0.35280448, 0.6349966], 'pk': '1001'}]\n"
     ]
    }
   ],
   "source": [
    "# -----------------------------------------------------------------------------\n",
    "# pagination\n",
    "r1 = hello_milvus.query(expr=\"random > 0.5\", limit=4, output_fields=[\"random\"])\n",
    "r2 = hello_milvus.query(expr=\"random > 0.5\", offset=1, limit=3, output_fields=[\"random\",'embeddings'])\n",
    "print(f\"query pagination(limit=4):\\n\\t{r1}\")\n",
    "print(f\"query pagination(offset=1, limit=3):\\n\\t{r2}\")"
   ],
   "metadata": {
    "collapsed": false,
    "pycharm": {
     "name": "#%%\n"
    }
   }
  },
  {
   "cell_type": "code",
   "execution_count": 15,
   "outputs": [
    {
     "name": "stdout",
     "output_type": "stream",
     "text": [
      "\n",
      "=== Start hybrid searching with `random > 0.5` ===\n",
      "\n",
      "hit: (distance: 0.0, id: 2998), random field: 0.9728033590489911\n",
      "hit: (distance: 0.14606499671936035, id: 747), random field: 0.5648774800635661\n",
      "hit: (distance: 0.1530652642250061, id: 2527), random field: 0.8928974315571507\n",
      "hit: (distance: 0.08096685260534286, id: 2377), random field: 0.8745922204004368\n",
      "hit: (distance: 0.20354536175727844, id: 2034), random field: 0.5526117606328499\n",
      "hit: (distance: 0.21908017992973328, id: 958), random field: 0.6647383716417955\n",
      "search latency = 0.4048s\n"
     ]
    }
   ],
   "source": [
    "# -----------------------------------------------------------------------------\n",
    "# hybrid search\n",
    "print(fmt.format(\"Start hybrid searching with `random > 0.5`\"))\n",
    "\n",
    "start_time = time.time()\n",
    "result = hello_milvus.search(vectors_to_search, \"embeddings\", search_params, limit=3, expr=\"random > 0.5\", output_fields=[\"random\"])\n",
    "end_time = time.time()\n",
    "\n",
    "for hits in result:\n",
    "    for hit in hits:\n",
    "        print(f\"hit: {hit}, random field: {hit.entity.get('random')}\")\n",
    "print(search_latency_fmt.format(end_time - start_time))"
   ],
   "metadata": {
    "collapsed": false,
    "pycharm": {
     "name": "#%%\n"
    }
   }
  },
  {
   "cell_type": "code",
   "execution_count": 16,
   "outputs": [
    {
     "name": "stdout",
     "output_type": "stream",
     "text": [
      "\n",
      "=== Start deleting with expr `pk in [\"0\" , \"1\"]` ===\n",
      "\n",
      "query before delete by expr=`pk in [\"0\" , \"1\"]` -> result: \n",
      "-{'random': 0.6378742006852851, 'embeddings': [0.20963514, 0.39746657, 0.12019053, 0.6947492, 0.9535575, 0.5454552, 0.82360446, 0.21096309], 'pk': '0'}\n",
      "-{'random': 0.43925103574669633, 'embeddings': [0.52323616, 0.8035404, 0.77824664, 0.80369574, 0.4914803, 0.8265614, 0.6145269, 0.80234545], 'pk': '1'}\n",
      "\n",
      "query after delete by expr=`pk in [\"0\" , \"1\"]` -> result: []\n",
      "\n"
     ]
    }
   ],
   "source": [
    "###############################################################################\n",
    "# 6. delete entities by PK\n",
    "# You can delete entities by their PK values using boolean expressions.\n",
    "ids = insert_result.primary_keys\n",
    "\n",
    "expr = f'pk in [\"{ids[0]}\" , \"{ids[1]}\"]'\n",
    "print(fmt.format(f\"Start deleting with expr `{expr}`\"))\n",
    "\n",
    "result = hello_milvus.query(expr=expr, output_fields=[\"random\", \"embeddings\"])\n",
    "print(f\"query before delete by expr=`{expr}` -> result: \\n-{result[0]}\\n-{result[1]}\\n\")\n",
    "\n",
    "hello_milvus.delete(expr)\n",
    "\n",
    "result = hello_milvus.query(expr=expr, output_fields=[\"random\", \"embeddings\"])\n",
    "print(f\"query after delete by expr=`{expr}` -> result: {result}\\n\")"
   ],
   "metadata": {
    "collapsed": false,
    "pycharm": {
     "name": "#%%\n"
    }
   }
  },
  {
   "cell_type": "code",
   "execution_count": 17,
   "outputs": [
    {
     "name": "stdout",
     "output_type": "stream",
     "text": [
      "['c0b1ff1082ad74ae999092fece02c1a00', 'c26a7fb16cf2545e5b8fcb401762d0366', 'ca9dc8b95bc5c456daa5ed7a16b76bbe8', 'hello_milvus', 'c3230df20f9aa43208a9083bf35dbfd8e']\n",
      "[<pymilvus.orm.index.Index object at 0x7f8d4121a2c0>]\n",
      "<Collection>:\n",
      "-------------\n",
      "<name>: c0b1ff1082ad74ae999092fece02c1a00\n",
      "<partitions>: [{\"name\": \"_default\", \"collection_name\": \"c0b1ff1082ad74ae999092fece02c1a00\", \"description\": \"\"}]\n",
      "<description>: \n",
      "<schema>: {\n",
      "  auto_id: True\n",
      "  description: \n",
      "  fields: [{\n",
      "    name: pk\n",
      "    description: \n",
      "    type: 5\n",
      "    is_primary: True\n",
      "    auto_id: True\n",
      "  }, {\n",
      "    name: embedding\n",
      "    description: \n",
      "    type: 101\n",
      "    params: {'dim': 1536}\n",
      "  }, {\n",
      "    name: text\n",
      "    description: \n",
      "    type: 21\n",
      "    params: {'max_length': 65535}\n",
      "  }, {\n",
      "    name: document_id\n",
      "    description: \n",
      "    type: 21\n",
      "    params: {'max_length': 65535}\n",
      "  }, {\n",
      "    name: source_id\n",
      "    description: \n",
      "    type: 21\n",
      "    params: {'max_length': 65535}\n",
      "  }, {\n",
      "    name: id\n",
      "    description: \n",
      "    type: 21\n",
      "    params: {'max_length': 65535}\n",
      "  }, {\n",
      "    name: source\n",
      "    description: \n",
      "    type: 21\n",
      "    params: {'max_length': 65535}\n",
      "  }, {\n",
      "    name: url\n",
      "    description: \n",
      "    type: 21\n",
      "    params: {'max_length': 65535}\n",
      "  }, {\n",
      "    name: created_at\n",
      "    description: \n",
      "    type: 5\n",
      "  }, {\n",
      "    name: author\n",
      "    description: \n",
      "    type: 21\n",
      "    params: {'max_length': 65535}\n",
      "  }]\n",
      "}\n",
      "\n"
     ]
    }
   ],
   "source": [
    "print(utility.list_collections())\n",
    "print(Collection('hello_milvus').indexes)\n",
    "print(Collection('c0b1ff1082ad74ae999092fece02c1a00'))"
   ],
   "metadata": {
    "collapsed": false,
    "pycharm": {
     "name": "#%%\n"
    }
   }
  },
  {
   "cell_type": "code",
   "execution_count": 18,
   "outputs": [
    {
     "name": "stdout",
     "output_type": "stream",
     "text": [
      "\n",
      "=== Drop collection `hello_milvus` ===\n",
      "\n"
     ]
    }
   ],
   "source": [
    "###############################################################################\n",
    "# 7. drop collection\n",
    "# Finally, drop the hello_milvus collection\n",
    "print(fmt.format(\"Drop collection `hello_milvus`\"))\n",
    "utility.drop_collection(\"hello_milvus\")"
   ],
   "metadata": {
    "collapsed": false,
    "pycharm": {
     "name": "#%%\n"
    }
   }
  },
  {
   "cell_type": "code",
   "execution_count": 19,
   "outputs": [
    {
     "data": {
      "text/plain": "['c3230df20f9aa43208a9083bf35dbfd8e',\n 'ca9dc8b95bc5c456daa5ed7a16b76bbe8',\n 'c0b1ff1082ad74ae999092fece02c1a00',\n 'c26a7fb16cf2545e5b8fcb401762d0366']"
     },
     "execution_count": 19,
     "metadata": {},
     "output_type": "execute_result"
    }
   ],
   "source": [
    "utility.list_collections()"
   ],
   "metadata": {
    "collapsed": false,
    "pycharm": {
     "name": "#%%\n"
    }
   }
  },
  {
   "cell_type": "code",
   "execution_count": 19,
   "outputs": [],
   "source": [],
   "metadata": {
    "collapsed": false,
    "pycharm": {
     "name": "#%%\n"
    }
   }
  }
 ],
 "metadata": {
  "kernelspec": {
   "display_name": "Python 3",
   "language": "python",
   "name": "python3"
  },
  "language_info": {
   "codemirror_mode": {
    "name": "ipython",
    "version": 2
   },
   "file_extension": ".py",
   "mimetype": "text/x-python",
   "name": "python",
   "nbconvert_exporter": "python",
   "pygments_lexer": "ipython2",
   "version": "2.7.6"
  }
 },
 "nbformat": 4,
 "nbformat_minor": 0
}