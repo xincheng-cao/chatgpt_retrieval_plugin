{
 "cells": [
  {
   "cell_type": "code",
   "execution_count": 1,
   "metadata": {
    "collapsed": true
   },
   "outputs": [],
   "source": [
    "from pymilvus import (\n",
    "    connections,\n",
    "    utility,\n",
    "    FieldSchema, CollectionSchema, DataType,\n",
    "    Collection,\n",
    ")\n",
    "import numpy as np"
   ]
  },
  {
   "cell_type": "code",
   "execution_count": 2,
   "outputs": [
    {
     "data": {
      "text/plain": "['c297c7c9ccf4048cc885517ab7a024720',\n 'c26a7fb16cf2545e5b8fcb401762d0366',\n 'cbc0661ed39d844ee8c6de07cadd623d3',\n 'c8287768c4fda40b3827f28f9ba2b0234',\n 'te5t_collection',\n 'c3230df20f9aa43208a9083bf35dbfd8e',\n 'ctrip_hotel_cols_4_geo0',\n 'c0b1ff1082ad74ae999092fece02c1a00',\n 'ctrip_desc_norm_xb0',\n 'c150626a6010643a2810c6d29b02c56e3',\n 'cf80006c7a449451bb7f1be67307917fd',\n 'cbdb2da02bcf647d2b05c34b13695bb67',\n 'cdcbfea425fc14cb1a39109121698fef3',\n 'ca9dc8b95bc5c456daa5ed7a16b76bbe8',\n 'ctrip_hotel_cols_4_rec0',\n 'ca04b4023a06a419c80672b78fac7fa4b']"
     },
     "execution_count": 2,
     "metadata": {},
     "output_type": "execute_result"
    }
   ],
   "source": [
    "# jupyter notebook --ip=0.0.0.0 --port=8889 --no-browser\n",
    "connections.connect(\"default\", host=\"10.200.0.43\", port=\"19530\")\n",
    "utility.list_collections()"
   ],
   "metadata": {
    "collapsed": false,
    "pycharm": {
     "name": "#%%\n"
    }
   }
  },
  {
   "cell_type": "markdown",
   "source": [
    "# skip this"
   ],
   "metadata": {
    "collapsed": false,
    "pycharm": {
     "name": "#%% md\n"
    }
   }
  },
  {
   "cell_type": "code",
   "execution_count": 3,
   "outputs": [
    {
     "ename": "SchemaNotReadyException",
     "evalue": "<SchemaNotReadyException: (code=1, message=The collection already exist, but the schema is not the same as the schema passed in.)>",
     "output_type": "error",
     "traceback": [
      "\u001B[0;31m---------------------------------------------------------------------------\u001B[0m",
      "\u001B[0;31mSchemaNotReadyException\u001B[0m                   Traceback (most recent call last)",
      "Cell \u001B[0;32mIn[3], line 6\u001B[0m\n\u001B[1;32m      1\u001B[0m fields \u001B[38;5;241m=\u001B[39m [\n\u001B[1;32m      2\u001B[0m     FieldSchema(name\u001B[38;5;241m=\u001B[39m\u001B[38;5;124m\"\u001B[39m\u001B[38;5;124mpk\u001B[39m\u001B[38;5;124m\"\u001B[39m, dtype\u001B[38;5;241m=\u001B[39mDataType\u001B[38;5;241m.\u001B[39mINT64, is_primary\u001B[38;5;241m=\u001B[39m\u001B[38;5;28;01mTrue\u001B[39;00m, auto_id\u001B[38;5;241m=\u001B[39m\u001B[38;5;28;01mTrue\u001B[39;00m,),\n\u001B[1;32m      3\u001B[0m     FieldSchema(name\u001B[38;5;241m=\u001B[39m\u001B[38;5;124m\"\u001B[39m\u001B[38;5;124membeddings\u001B[39m\u001B[38;5;124m\"\u001B[39m, dtype\u001B[38;5;241m=\u001B[39mDataType\u001B[38;5;241m.\u001B[39mFLOAT_VECTOR, dim\u001B[38;5;241m=\u001B[39m\u001B[38;5;241m1024\u001B[39m)\n\u001B[1;32m      4\u001B[0m ]\n\u001B[1;32m      5\u001B[0m schema \u001B[38;5;241m=\u001B[39m CollectionSchema(fields,)\n\u001B[0;32m----> 6\u001B[0m collection\u001B[38;5;241m=\u001B[39m\u001B[43mCollection\u001B[49m\u001B[43m(\u001B[49m\u001B[38;5;124;43m'\u001B[39;49m\u001B[38;5;124;43mctrip_desc_norm_xb0\u001B[39;49m\u001B[38;5;124;43m'\u001B[39;49m\u001B[43m,\u001B[49m\u001B[43mschema\u001B[49m\u001B[43m)\u001B[49m\n",
      "File \u001B[0;32m/data1/shiba/chatgpt_retrieval_plugin/.venv/lib/python3.10/site-packages/pymilvus/orm/collection.py:111\u001B[0m, in \u001B[0;36mCollection.__init__\u001B[0;34m(self, name, schema, using, shards_num, **kwargs)\u001B[0m\n\u001B[1;32m    109\u001B[0m             \u001B[38;5;28;01mraise\u001B[39;00m SchemaNotReadyException(message\u001B[38;5;241m=\u001B[39mExceptionsMessage\u001B[38;5;241m.\u001B[39mSchemaType)\n\u001B[1;32m    110\u001B[0m         \u001B[38;5;28;01mif\u001B[39;00m server_schema \u001B[38;5;241m!=\u001B[39m schema:\n\u001B[0;32m--> 111\u001B[0m             \u001B[38;5;28;01mraise\u001B[39;00m SchemaNotReadyException(message\u001B[38;5;241m=\u001B[39mExceptionsMessage\u001B[38;5;241m.\u001B[39mSchemaInconsistent)\n\u001B[1;32m    112\u001B[0m         \u001B[38;5;28mself\u001B[39m\u001B[38;5;241m.\u001B[39m_schema \u001B[38;5;241m=\u001B[39m schema\n\u001B[1;32m    114\u001B[0m \u001B[38;5;28;01melse\u001B[39;00m:\n",
      "\u001B[0;31mSchemaNotReadyException\u001B[0m: <SchemaNotReadyException: (code=1, message=The collection already exist, but the schema is not the same as the schema passed in.)>"
     ]
    }
   ],
   "source": [
    "fields = [\n",
    "    FieldSchema(name=\"pk\", dtype=DataType.INT64, is_primary=True, auto_id=True,),\n",
    "    FieldSchema(name=\"embeddings\", dtype=DataType.FLOAT_VECTOR, dim=1024)\n",
    "]\n",
    "schema = CollectionSchema(fields,)\n",
    "collection=Collection('ctrip_desc_norm_xb0',schema)"
   ],
   "metadata": {
    "collapsed": false,
    "pycharm": {
     "name": "#%%\n"
    }
   }
  },
  {
   "cell_type": "code",
   "execution_count": 4,
   "outputs": [
    {
     "data": {
      "text/plain": "['te5t_collection',\n 'c3230df20f9aa43208a9083bf35dbfd8e',\n 'ctrip_hotel_cols_4_geo0',\n 'c297c7c9ccf4048cc885517ab7a024720',\n 'c26a7fb16cf2545e5b8fcb401762d0366',\n 'cbc0661ed39d844ee8c6de07cadd623d3',\n 'c8287768c4fda40b3827f28f9ba2b0234',\n 'ctrip_desc_norm_xb0',\n 'c0b1ff1082ad74ae999092fece02c1a00',\n 'cbdb2da02bcf647d2b05c34b13695bb67',\n 'cdcbfea425fc14cb1a39109121698fef3',\n 'ca9dc8b95bc5c456daa5ed7a16b76bbe8',\n 'c150626a6010643a2810c6d29b02c56e3',\n 'cf80006c7a449451bb7f1be67307917fd',\n 'ca04b4023a06a419c80672b78fac7fa4b',\n 'ctrip_hotel_cols_4_rec0']"
     },
     "execution_count": 4,
     "metadata": {},
     "output_type": "execute_result"
    }
   ],
   "source": [
    "utility.list_collections()"
   ],
   "metadata": {
    "collapsed": false,
    "pycharm": {
     "name": "#%%\n"
    }
   }
  },
  {
   "cell_type": "code",
   "execution_count": 5,
   "outputs": [
    {
     "name": "stdout",
     "output_type": "stream",
     "text": [
      "2\n"
     ]
    }
   ],
   "source": [
    "#utility.drop_collection(\"ctrip_desc_norm_xb0\")\n",
    "entities=[\n",
    "    [[0]*1024,\n",
    "    [1]*1024,]\n",
    "]\n",
    "insert_result=collection.insert(entities)\n",
    "collection.flush()\n",
    "print(collection.num_entities)"
   ],
   "metadata": {
    "collapsed": false,
    "pycharm": {
     "name": "#%%\n"
    }
   }
  },
  {
   "cell_type": "code",
   "execution_count": 6,
   "outputs": [
    {
     "data": {
      "text/plain": "Status(code=0, message=)"
     },
     "execution_count": 6,
     "metadata": {},
     "output_type": "execute_result"
    }
   ],
   "source": [
    "index={\n",
    "    \"index_type\":'FLAT',\n",
    "    'metric_type':'IP',\n",
    "    \"params\":{},\n",
    "}\n",
    "collection.create_index(\"embeddings\",index)"
   ],
   "metadata": {
    "collapsed": false,
    "pycharm": {
     "name": "#%%\n"
    }
   }
  },
  {
   "cell_type": "code",
   "execution_count": 7,
   "outputs": [],
   "source": [
    "def query_all(collection:Collection):\n",
    "    output_fields=[e.name for e in collection.schema.fields]\n",
    "\n",
    "    res=collection.query(\n",
    "        expr='pk>=0',\n",
    "        output_fields=output_fields,\n",
    "    )\n",
    "    def get_key_fn(e):\n",
    "        return e['pk']\n",
    "    res.sort(reverse=False,key=get_key_fn)\n",
    "    return res"
   ],
   "metadata": {
    "collapsed": false,
    "pycharm": {
     "name": "#%%\n"
    }
   }
  },
  {
   "cell_type": "code",
   "execution_count": 8,
   "outputs": [],
   "source": [
    "collection.load()\n",
    "res=query_all(collection)"
   ],
   "metadata": {
    "collapsed": false,
    "pycharm": {
     "name": "#%%\n"
    }
   }
  },
  {
   "cell_type": "code",
   "execution_count": 9,
   "outputs": [
    {
     "data": {
      "text/plain": "(441549762304495628, 441549762304495629)"
     },
     "execution_count": 9,
     "metadata": {},
     "output_type": "execute_result"
    }
   ],
   "source": [
    "res[0]['pk'],res[1]['pk']"
   ],
   "metadata": {
    "collapsed": false,
    "pycharm": {
     "name": "#%%\n"
    }
   }
  },
  {
   "cell_type": "markdown",
   "source": [
    "# continue here"
   ],
   "metadata": {
    "collapsed": false
   }
  },
  {
   "cell_type": "code",
   "execution_count": 3,
   "outputs": [],
   "source": [
    "utility.drop_collection('ctrip_desc_norm_xb0')"
   ],
   "metadata": {
    "collapsed": false,
    "pycharm": {
     "name": "#%%\n"
    }
   }
  },
  {
   "cell_type": "code",
   "execution_count": 4,
   "outputs": [
    {
     "data": {
      "text/plain": "['c0b1ff1082ad74ae999092fece02c1a00',\n 'cf80006c7a449451bb7f1be67307917fd',\n 'cbdb2da02bcf647d2b05c34b13695bb67',\n 'cdcbfea425fc14cb1a39109121698fef3',\n 'ca9dc8b95bc5c456daa5ed7a16b76bbe8',\n 'c150626a6010643a2810c6d29b02c56e3',\n 'ctrip_hotel_cols_4_rec0',\n 'ca04b4023a06a419c80672b78fac7fa4b',\n 'cbc0661ed39d844ee8c6de07cadd623d3',\n 'c8287768c4fda40b3827f28f9ba2b0234',\n 'te5t_collection',\n 'c3230df20f9aa43208a9083bf35dbfd8e',\n 'ctrip_hotel_cols_4_geo0',\n 'c297c7c9ccf4048cc885517ab7a024720',\n 'c26a7fb16cf2545e5b8fcb401762d0366']"
     },
     "execution_count": 4,
     "metadata": {},
     "output_type": "execute_result"
    }
   ],
   "source": [
    "utility.list_collections()"
   ],
   "metadata": {
    "collapsed": false,
    "pycharm": {
     "name": "#%%\n"
    }
   }
  },
  {
   "cell_type": "code",
   "execution_count": 5,
   "outputs": [
    {
     "data": {
      "text/plain": "['cbc0661ed39d844ee8c6de07cadd623d3',\n 'ctrip_desc_norm_xb0',\n 'c8287768c4fda40b3827f28f9ba2b0234',\n 'te5t_collection',\n 'c3230df20f9aa43208a9083bf35dbfd8e',\n 'ctrip_hotel_cols_4_geo0',\n 'c297c7c9ccf4048cc885517ab7a024720',\n 'c26a7fb16cf2545e5b8fcb401762d0366',\n 'c0b1ff1082ad74ae999092fece02c1a00',\n 'cf80006c7a449451bb7f1be67307917fd',\n 'cbdb2da02bcf647d2b05c34b13695bb67',\n 'cdcbfea425fc14cb1a39109121698fef3',\n 'ca9dc8b95bc5c456daa5ed7a16b76bbe8',\n 'c150626a6010643a2810c6d29b02c56e3',\n 'ctrip_hotel_cols_4_rec0',\n 'ca04b4023a06a419c80672b78fac7fa4b']"
     },
     "execution_count": 5,
     "metadata": {},
     "output_type": "execute_result"
    }
   ],
   "source": [
    "fields = [\n",
    "    FieldSchema(name=\"pk\", dtype=DataType.INT64, is_primary=True, auto_id=False,),\n",
    "    FieldSchema(name=\"embeddings\", dtype=DataType.FLOAT_VECTOR, dim=1024),\n",
    "    FieldSchema(name=\"id\",dtype=DataType.INT64,)\n",
    "]\n",
    "schema = CollectionSchema(fields,)\n",
    "collection=Collection('ctrip_desc_norm_xb0',schema)\n",
    "utility.list_collections()"
   ],
   "metadata": {
    "collapsed": false,
    "pycharm": {
     "name": "#%%\n"
    }
   }
  },
  {
   "cell_type": "code",
   "execution_count": null,
   "outputs": [],
   "source": [
    "# load large matrix\n",
    "with open('/data1/shiba/langchain-ChatGLM/content/full_hotels_conversion/ctrip_desc_norm_xb0.npy',mode='rb') as f:\n",
    "    xb=np.load(f)\n",
    "\n",
    "import pandas as pd\n",
    "ids_split_df=pd.read_csv('/data1/shiba/langchain-ChatGLM/content/full_hotels_conversion/external_ids_split.csv')"
   ],
   "metadata": {
    "collapsed": false,
    "pycharm": {
     "name": "#%%\n",
     "is_executing": true
    }
   }
  },
  {
   "cell_type": "code",
   "execution_count": 11,
   "outputs": [
    {
     "data": {
      "text/plain": "((2923028, 1024), (2923028, 1))"
     },
     "execution_count": 11,
     "metadata": {},
     "output_type": "execute_result"
    }
   ],
   "source": [
    "xb.shape, ids_split_df.shape"
   ],
   "metadata": {
    "collapsed": false,
    "pycharm": {
     "name": "#%%\n"
    }
   }
  },
  {
   "cell_type": "code",
   "execution_count": 12,
   "outputs": [
    {
     "name": "stdout",
     "output_type": "stream",
     "text": [
      "0\n"
     ]
    }
   ],
   "source": [
    "print(collection.num_entities)"
   ],
   "metadata": {
    "collapsed": false,
    "pycharm": {
     "name": "#%%\n"
    }
   }
  },
  {
   "cell_type": "code",
   "execution_count": 13,
   "outputs": [],
   "source": [
    "pk_list=[i for i in range(xb.shape[0])]"
   ],
   "metadata": {
    "collapsed": false,
    "pycharm": {
     "name": "#%%\n"
    }
   }
  },
  {
   "cell_type": "code",
   "execution_count": 19,
   "outputs": [
    {
     "name": "stdout",
     "output_type": "stream",
     "text": [
      "[[ 0.06915887 -0.01516698  0.00569719  0.01777424  0.01554105 -0.01248071\n",
      "  -0.02044001 -0.02730548]]\n",
      "2923028\n",
      "[2923018, 2923019, 2923020, 2923021, 2923022, 2923023, 2923024, 2923025, 2923026, 2923027]\n",
      "[429503, 429503, 429503, 429503, 429503, 429503, 435622, 435622, 435622, 435622]\n"
     ]
    }
   ],
   "source": [
    "print(xb[1996:1997,302:310])\n",
    "print(len(pk_list))\n",
    "print(pk_list[-10:])\n",
    "print(ids_split_df['id_split'].tolist()[:10])"
   ],
   "metadata": {
    "collapsed": false,
    "pycharm": {
     "name": "#%%\n"
    }
   }
  },
  {
   "cell_type": "code",
   "execution_count": 20,
   "outputs": [],
   "source": [
    "entities=[\n",
    "    pk_list,\n",
    "    xb,\n",
    "    ids_split_df['id_split'].tolist(),\n",
    "]"
   ],
   "metadata": {
    "collapsed": false,
    "pycharm": {
     "name": "#%%\n"
    }
   }
  },
  {
   "cell_type": "code",
   "execution_count": null,
   "outputs": [],
   "source": [
    "insert_result=collection.insert(entities)\n",
    "collection.flush()\n",
    "print(collection.num_entities)"
   ],
   "metadata": {
    "collapsed": false,
    "pycharm": {
     "name": "#%%\n",
     "is_executing": true
    }
   }
  },
  {
   "cell_type": "code",
   "execution_count": null,
   "outputs": [],
   "source": [],
   "metadata": {
    "collapsed": false,
    "pycharm": {
     "name": "#%%\n"
    }
   }
  }
 ],
 "metadata": {
  "kernelspec": {
   "display_name": "Python 3",
   "language": "python",
   "name": "python3"
  },
  "language_info": {
   "codemirror_mode": {
    "name": "ipython",
    "version": 2
   },
   "file_extension": ".py",
   "mimetype": "text/x-python",
   "name": "python",
   "nbconvert_exporter": "python",
   "pygments_lexer": "ipython2",
   "version": "2.7.6"
  }
 },
 "nbformat": 4,
 "nbformat_minor": 0
}