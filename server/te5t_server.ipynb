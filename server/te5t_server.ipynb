{
 "cells": [
  {
   "cell_type": "code",
   "execution_count": 1,
   "metadata": {
    "collapsed": true
   },
   "outputs": [],
   "source": [
    "from pymilvus import (\n",
    "    connections,\n",
    "    utility,\n",
    "    FieldSchema, CollectionSchema, DataType,\n",
    "    Collection,\n",
    ")"
   ]
  },
  {
   "cell_type": "code",
   "execution_count": 2,
   "outputs": [
    {
     "data": {
      "text/plain": "['c8287768c4fda40b3827f28f9ba2b0234',\n 'c150626a6010643a2810c6d29b02c56e3',\n 'c26a7fb16cf2545e5b8fcb401762d0366',\n 'cf80006c7a449451bb7f1be67307917fd',\n 'ca04b4023a06a419c80672b78fac7fa4b',\n 'c297c7c9ccf4048cc885517ab7a024720',\n 'cdcbfea425fc14cb1a39109121698fef3',\n 'cbc0661ed39d844ee8c6de07cadd623d3',\n 'te5t_collection',\n 'c0b1ff1082ad74ae999092fece02c1a00',\n 'c3230df20f9aa43208a9083bf35dbfd8e',\n 'ca9dc8b95bc5c456daa5ed7a16b76bbe8',\n 'cbdb2da02bcf647d2b05c34b13695bb67']"
     },
     "execution_count": 2,
     "metadata": {},
     "output_type": "execute_result"
    }
   ],
   "source": [
    "connections.connect(\"default\", host=\"10.200.0.43\", port=\"19530\")\n",
    "utility.list_collections()"
   ],
   "metadata": {
    "collapsed": false,
    "pycharm": {
     "name": "#%%\n"
    }
   }
  },
  {
   "cell_type": "code",
   "execution_count": 3,
   "outputs": [
    {
     "data": {
      "text/plain": "<Collection>:\n-------------\n<name>: c26a7fb16cf2545e5b8fcb401762d0366\n<partitions>: [{\"name\": \"_default\", \"collection_name\": \"c26a7fb16cf2545e5b8fcb401762d0366\", \"description\": \"\"}]\n<description>: \n<schema>: {\n  auto_id: True\n  description: \n  fields: [{\n    name: pk\n    description: \n    type: 5\n    is_primary: True\n    auto_id: True\n  }, {\n    name: embedding\n    description: \n    type: 101\n    params: {'dim': 1536}\n  }, {\n    name: text\n    description: \n    type: 21\n    params: {'max_length': 65535}\n  }, {\n    name: document_id\n    description: \n    type: 21\n    params: {'max_length': 65535}\n  }, {\n    name: source_id\n    description: \n    type: 21\n    params: {'max_length': 65535}\n  }, {\n    name: id\n    description: \n    type: 21\n    params: {'max_length': 65535}\n  }, {\n    name: source\n    description: \n    type: 21\n    params: {'max_length': 65535}\n  }, {\n    name: url\n    description: \n    type: 21\n    params: {'max_length': 65535}\n  }, {\n    name: created_at\n    description: \n    type: 5\n  }, {\n    name: author\n    description: \n    type: 21\n    params: {'max_length': 65535}\n  }]\n}"
     },
     "execution_count": 3,
     "metadata": {},
     "output_type": "execute_result"
    }
   ],
   "source": [
    "Collection('c26a7fb16cf2545e5b8fcb401762d0366')"
   ],
   "metadata": {
    "collapsed": false,
    "pycharm": {
     "name": "#%%\n"
    }
   }
  },
  {
   "cell_type": "code",
   "execution_count": 4,
   "outputs": [
    {
     "data": {
      "text/plain": "<Collection>:\n-------------\n<name>: cf80006c7a449451bb7f1be67307917fd\n<partitions>: [{\"name\": \"_default\", \"collection_name\": \"cf80006c7a449451bb7f1be67307917fd\", \"description\": \"\"}]\n<description>: \n<schema>: {\n  auto_id: True\n  description: \n  fields: [{\n    name: pk\n    description: \n    type: 5\n    is_primary: True\n    auto_id: True\n  }, {\n    name: embedding\n    description: \n    type: 101\n    params: {'dim': 1536}\n  }, {\n    name: text\n    description: \n    type: 21\n    params: {'max_length': 65535}\n  }, {\n    name: document_id\n    description: \n    type: 21\n    params: {'max_length': 65535}\n  }, {\n    name: source_id\n    description: \n    type: 21\n    params: {'max_length': 65535}\n  }, {\n    name: id\n    description: \n    type: 21\n    params: {'max_length': 65535}\n  }, {\n    name: source\n    description: \n    type: 21\n    params: {'max_length': 65535}\n  }, {\n    name: url\n    description: \n    type: 21\n    params: {'max_length': 65535}\n  }, {\n    name: created_at\n    description: \n    type: 5\n  }, {\n    name: author\n    description: \n    type: 21\n    params: {'max_length': 65535}\n  }]\n}"
     },
     "execution_count": 4,
     "metadata": {},
     "output_type": "execute_result"
    }
   ],
   "source": [
    "Collection('cf80006c7a449451bb7f1be67307917fd')"
   ],
   "metadata": {
    "collapsed": false,
    "pycharm": {
     "name": "#%%\n"
    }
   }
  },
  {
   "cell_type": "code",
   "execution_count": 5,
   "outputs": [],
   "source": [
    "from uuid import uuid4"
   ],
   "metadata": {
    "collapsed": false,
    "pycharm": {
     "name": "#%%\n"
    }
   }
  },
  {
   "cell_type": "code",
   "execution_count": 6,
   "outputs": [
    {
     "data": {
      "text/plain": "'a3aee28d8b284f0281e363b240ff088a'"
     },
     "execution_count": 6,
     "metadata": {},
     "output_type": "execute_result"
    }
   ],
   "source": [
    "uuid4().hex # random..."
   ],
   "metadata": {
    "collapsed": false,
    "pycharm": {
     "name": "#%%\n"
    }
   }
  },
  {
   "cell_type": "code",
   "execution_count": 7,
   "outputs": [],
   "source": [
    "test_collection=Collection('te5t_collection')"
   ],
   "metadata": {
    "collapsed": false,
    "pycharm": {
     "name": "#%%\n"
    }
   }
  },
  {
   "cell_type": "code",
   "execution_count": 8,
   "outputs": [],
   "source": [
    "test_collection.load()"
   ],
   "metadata": {
    "collapsed": false,
    "pycharm": {
     "name": "#%%\n"
    }
   }
  },
  {
   "cell_type": "code",
   "execution_count": 9,
   "outputs": [],
   "source": [
    "res=test_collection.search(\n",
    "    data=[[0]*1536],\n",
    "    anns_field= \"embedding\",\n",
    "    param={\"metric_type\": \"L2\", \"params\": {\"nprobe\": 10}},\n",
    "    limit=100,\n",
    "    offset=1,\n",
    ")"
   ],
   "metadata": {
    "collapsed": false,
    "pycharm": {
     "name": "#%%\n"
    }
   }
  },
  {
   "cell_type": "code",
   "execution_count": 10,
   "outputs": [
    {
     "name": "stdout",
     "output_type": "stream",
     "text": [
      "[\"['(distance: 0.9999997615814209, id: 440620992625515413)', '(distance: 0.9999997615814209, id: 440620992625515414)', '(distance: 1.0, id: 440620992625515412)']\"]\n"
     ]
    }
   ],
   "source": [
    "print(res)"
   ],
   "metadata": {
    "collapsed": false,
    "pycharm": {
     "name": "#%%\n"
    }
   }
  },
  {
   "cell_type": "code",
   "execution_count": 11,
   "outputs": [
    {
     "data": {
      "text/plain": "['pk',\n 'embedding',\n 'text',\n 'document_id',\n 'source_id',\n 'id',\n 'source',\n 'url',\n 'created_at',\n 'author']"
     },
     "execution_count": 11,
     "metadata": {},
     "output_type": "execute_result"
    }
   ],
   "source": [
    "[e.name for e in test_collection.schema.fields]"
   ],
   "metadata": {
    "collapsed": false,
    "pycharm": {
     "name": "#%%\n"
    }
   }
  },
  {
   "cell_type": "code",
   "execution_count": 12,
   "outputs": [
    {
     "name": "stdout",
     "output_type": "stream",
     "text": [
      "[\"['(distance: 0.9999997615814209, id: 440620992625515413)', '(distance: 0.9999997615814209, id: 440620992625515414)', '(distance: 1.0, id: 440620992625515412)']\"]\n"
     ]
    }
   ],
   "source": [
    "res=test_collection.search(\n",
    "    data=[[0]*1536],\n",
    "    anns_field= \"embedding\",\n",
    "    param={\"metric_type\": \"L2\", \"params\": {\"nprobe\": 10}},\n",
    "    limit=100,\n",
    "    offset=1,\n",
    "    output_fields=['pk','text',],\n",
    ")\n",
    "print(res)"
   ],
   "metadata": {
    "collapsed": false,
    "pycharm": {
     "name": "#%%\n"
    }
   }
  },
  {
   "cell_type": "code",
   "execution_count": 13,
   "outputs": [
    {
     "name": "stdout",
     "output_type": "stream",
     "text": [
      "id: 440620992625515413, distance: 0.9999997615814209, entity: {'pk': 440620992625515413, 'text': 'This is another document about something else'}\n",
      "id: 440620992625515414, distance: 0.9999997615814209, entity: {'pk': 440620992625515414, 'text': \"This is Alice's phone number: 123-456-7890\"}\n",
      "id: 440620992625515412, distance: 1.0, entity: {'pk': 440620992625515412, 'text': 'This is a document about something'}\n"
     ]
    }
   ],
   "source": [
    "for hits in res:\n",
    "    for hit in hits:\n",
    "        print(hit.entity)"
   ],
   "metadata": {
    "collapsed": false,
    "pycharm": {
     "name": "#%%\n"
    }
   }
  },
  {
   "cell_type": "code",
   "execution_count": 13,
   "outputs": [],
   "source": [],
   "metadata": {
    "collapsed": false,
    "pycharm": {
     "name": "#%%\n"
    }
   }
  }
 ],
 "metadata": {
  "kernelspec": {
   "display_name": "Python 3",
   "language": "python",
   "name": "python3"
  },
  "language_info": {
   "codemirror_mode": {
    "name": "ipython",
    "version": 2
   },
   "file_extension": ".py",
   "mimetype": "text/x-python",
   "name": "python",
   "nbconvert_exporter": "python",
   "pygments_lexer": "ipython2",
   "version": "2.7.6"
  }
 },
 "nbformat": 4,
 "nbformat_minor": 0
}